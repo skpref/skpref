{
 "cells": [
  {
   "cell_type": "code",
   "execution_count": 1,
   "metadata": {},
   "outputs": [],
   "source": [
    "import sys\n",
    "sys.path.insert(0, \"..\")\n",
    "import data_processing as dp\n",
    "import numpy as np\n",
    "import pandas as pd\n",
    "import collections"
   ]
  },
  {
   "cell_type": "code",
   "execution_count": 2,
   "metadata": {},
   "outputs": [],
   "source": [
    "def show_values_for_tests(PosetVector, in_data):\n",
    "    print(\"entity_universe:\", PosetVector.entity_universe)\n",
    "    print(\"PosetType:\", PosetVector.poset_type)\n",
    "    print(\"PosetDims:\", PosetVector.dims, \"inputdims:\", len(in_data))\n",
    "    print(\"top_size_const:\", PosetVector.poset_type.top_size_const)\n",
    "    print(\"boot_size_const:\", PosetVector.poset_type.boot_size_const)\n",
    "    print(\"top_size:\", PosetVector.poset_type.top_size)\n",
    "    print(\"boot_size:\", PosetVector.poset_type.boot_size)\n",
    "    print(\"efficient_rep_top:\", PosetVector.efficient_representation[0])\n",
    "    print(\"efficient_rep_boot:\", PosetVector.efficient_representation[1])"
   ]
  },
  {
   "cell_type": "markdown",
   "metadata": {},
   "source": [
    "# Testing with simple dummy data"
   ]
  },
  {
   "cell_type": "code",
   "execution_count": 3,
   "metadata": {},
   "outputs": [
    {
     "data": {
      "text/plain": [
       "'label'"
      ]
     },
     "execution_count": 3,
     "metadata": {},
     "output_type": "execute_result"
    }
   ],
   "source": [
    "a = dp.PosetType('label')\n",
    "a.entity_universe_type"
   ]
  },
  {
   "cell_type": "code",
   "execution_count": 4,
   "metadata": {},
   "outputs": [
    {
     "data": {
      "text/plain": [
       "('label', False, None)"
      ]
     },
     "execution_count": 4,
     "metadata": {},
     "output_type": "execute_result"
    }
   ],
   "source": [
    "b = dp.OrderPosetType('label')\n",
    "b.entity_universe_type, b.size_const, b.size"
   ]
  },
  {
   "cell_type": "code",
   "execution_count": 5,
   "metadata": {},
   "outputs": [],
   "source": [
    "top_choices = np.array([np.array(['a', 'b', 'c']), np.array(['a', 'b', 'd']), np.array(['d', 'b', 'c'])])\n",
    "boots = np.array([np.array(['d']), np.array(['c']), np.array(['a'])])"
   ]
  },
  {
   "cell_type": "code",
   "execution_count": 6,
   "metadata": {},
   "outputs": [],
   "source": [
    "# top_choices = np.array([np.array(['a', 'b', 'c']), np.array(['a']), np.array(['d'])])\n",
    "# boots = np.array([np.array(['d']), np.array(['b', 'd']), np.array(['a'])])"
   ]
  },
  {
   "cell_type": "code",
   "execution_count": 7,
   "metadata": {},
   "outputs": [],
   "source": [
    "test = dp.SubsetPosetVec(top_choices, boots, subset_type_vars={'top_size_const': True,\n",
    "                                                               'top_size': 3,\n",
    "                                                               'boot_size_const': True,\n",
    "                                                               'boot_size': 3})"
   ]
  },
  {
   "cell_type": "code",
   "execution_count": 8,
   "metadata": {},
   "outputs": [
    {
     "name": "stdout",
     "output_type": "stream",
     "text": [
      "entity_universe: ['a' 'b' 'c' 'd']\n",
      "PosetType: <data_processing.SubsetPosetType object at 0x000001B32D50B8D0>\n",
      "PosetDims: 3 inputdims: 3\n",
      "top_size_const: True\n",
      "boot_size_const: True\n",
      "top_size: 3\n",
      "boot_size: 3\n",
      "efficient_rep_top:   (0, 0)\t1\n",
      "  (0, 1)\t1\n",
      "  (0, 2)\t1\n",
      "  (1, 0)\t1\n",
      "  (1, 1)\t1\n",
      "  (1, 3)\t1\n",
      "  (2, 1)\t1\n",
      "  (2, 2)\t1\n",
      "  (2, 3)\t1\n",
      "efficient_rep_boot:   (0, 3)\t1\n",
      "  (1, 2)\t1\n",
      "  (2, 0)\t1\n"
     ]
    }
   ],
   "source": [
    "show_values_for_tests(test, top_choices)"
   ]
  },
  {
   "cell_type": "markdown",
   "metadata": {},
   "source": [
    "# Testing with NCAA data"
   ]
  },
  {
   "cell_type": "code",
   "execution_count": 9,
   "metadata": {},
   "outputs": [
    {
     "data": {
      "text/html": [
       "<div>\n",
       "<style scoped>\n",
       "    .dataframe tbody tr th:only-of-type {\n",
       "        vertical-align: middle;\n",
       "    }\n",
       "\n",
       "    .dataframe tbody tr th {\n",
       "        vertical-align: top;\n",
       "    }\n",
       "\n",
       "    .dataframe thead th {\n",
       "        text-align: right;\n",
       "    }\n",
       "</style>\n",
       "<table border=\"1\" class=\"dataframe\">\n",
       "  <thead>\n",
       "    <tr style=\"text-align: right;\">\n",
       "      <th></th>\n",
       "      <th>Season</th>\n",
       "      <th>DayNum</th>\n",
       "      <th>WTeamID</th>\n",
       "      <th>WScore</th>\n",
       "      <th>LTeamID</th>\n",
       "      <th>LScore</th>\n",
       "      <th>WLoc</th>\n",
       "      <th>NumOT</th>\n",
       "    </tr>\n",
       "  </thead>\n",
       "  <tbody>\n",
       "    <tr>\n",
       "      <th>0</th>\n",
       "      <td>1985</td>\n",
       "      <td>20</td>\n",
       "      <td>1228</td>\n",
       "      <td>81</td>\n",
       "      <td>1328</td>\n",
       "      <td>64</td>\n",
       "      <td>N</td>\n",
       "      <td>0</td>\n",
       "    </tr>\n",
       "    <tr>\n",
       "      <th>1</th>\n",
       "      <td>1985</td>\n",
       "      <td>25</td>\n",
       "      <td>1106</td>\n",
       "      <td>77</td>\n",
       "      <td>1354</td>\n",
       "      <td>70</td>\n",
       "      <td>H</td>\n",
       "      <td>0</td>\n",
       "    </tr>\n",
       "    <tr>\n",
       "      <th>2</th>\n",
       "      <td>1985</td>\n",
       "      <td>25</td>\n",
       "      <td>1112</td>\n",
       "      <td>63</td>\n",
       "      <td>1223</td>\n",
       "      <td>56</td>\n",
       "      <td>H</td>\n",
       "      <td>0</td>\n",
       "    </tr>\n",
       "    <tr>\n",
       "      <th>3</th>\n",
       "      <td>1985</td>\n",
       "      <td>25</td>\n",
       "      <td>1165</td>\n",
       "      <td>70</td>\n",
       "      <td>1432</td>\n",
       "      <td>54</td>\n",
       "      <td>H</td>\n",
       "      <td>0</td>\n",
       "    </tr>\n",
       "    <tr>\n",
       "      <th>4</th>\n",
       "      <td>1985</td>\n",
       "      <td>25</td>\n",
       "      <td>1192</td>\n",
       "      <td>86</td>\n",
       "      <td>1447</td>\n",
       "      <td>74</td>\n",
       "      <td>H</td>\n",
       "      <td>0</td>\n",
       "    </tr>\n",
       "  </tbody>\n",
       "</table>\n",
       "</div>"
      ],
      "text/plain": [
       "   Season  DayNum  WTeamID  WScore  LTeamID  LScore WLoc  NumOT\n",
       "0    1985      20     1228      81     1328      64    N      0\n",
       "1    1985      25     1106      77     1354      70    H      0\n",
       "2    1985      25     1112      63     1223      56    H      0\n",
       "3    1985      25     1165      70     1432      54    H      0\n",
       "4    1985      25     1192      86     1447      74    H      0"
      ]
     },
     "execution_count": 9,
     "metadata": {},
     "output_type": "execute_result"
    }
   ],
   "source": [
    "NCAA_loc_file = 'C:\\\\Users\\\\Istvan\\\\Documents\\\\Data\\\\NCAA\\\\DataFiles\\\\RegularSeasonCompactResults.csv'\n",
    "NCAA_raw_file = pd.read_csv(NCAA_loc_file)\n",
    "NCAA_raw_file.head()"
   ]
  },
  {
   "cell_type": "code",
   "execution_count": 10,
   "metadata": {},
   "outputs": [
    {
     "name": "stdout",
     "output_type": "stream",
     "text": [
      "Wall time: 3.75 s\n"
     ]
    }
   ],
   "source": [
    "%%time\n",
    "ncaa_test = dp.SubsetPosetVec(NCAA_raw_file.WTeamID.values, NCAA_raw_file.LTeamID.values,\n",
    "                              subset_type_vars={'top_size_const': True,\n",
    "                                                'top_size': 1,\n",
    "                                                'boot_size_const': True,\n",
    "                                                'boot_size': 1})"
   ]
  },
  {
   "cell_type": "code",
   "execution_count": 11,
   "metadata": {},
   "outputs": [
    {
     "name": "stdout",
     "output_type": "stream",
     "text": [
      "entity_universe: [1101. 1102. 1103. 1104. 1105. 1106. 1107. 1108. 1109. 1110. 1111. 1112.\n",
      " 1113. 1114. 1115. 1116. 1117. 1118. 1119. 1120. 1121. 1122. 1123. 1124.\n",
      " 1125. 1126. 1127. 1128. 1129. 1130. 1131. 1132. 1133. 1134. 1135. 1136.\n",
      " 1137. 1138. 1139. 1140. 1141. 1142. 1143. 1144. 1145. 1146. 1147. 1148.\n",
      " 1149. 1150. 1151. 1152. 1153. 1154. 1155. 1156. 1157. 1158. 1159. 1160.\n",
      " 1161. 1162. 1163. 1164. 1165. 1166. 1167. 1168. 1169. 1170. 1171. 1172.\n",
      " 1173. 1174. 1175. 1176. 1177. 1178. 1179. 1180. 1181. 1182. 1183. 1184.\n",
      " 1185. 1186. 1187. 1188. 1189. 1190. 1191. 1192. 1193. 1194. 1195. 1196.\n",
      " 1197. 1198. 1199. 1200. 1201. 1202. 1203. 1204. 1205. 1206. 1207. 1208.\n",
      " 1209. 1210. 1211. 1212. 1213. 1214. 1215. 1216. 1217. 1218. 1219. 1220.\n",
      " 1221. 1222. 1223. 1224. 1225. 1226. 1227. 1228. 1229. 1230. 1231. 1232.\n",
      " 1233. 1234. 1235. 1236. 1237. 1238. 1239. 1240. 1241. 1242. 1243. 1244.\n",
      " 1245. 1246. 1247. 1248. 1249. 1250. 1251. 1252. 1253. 1254. 1255. 1256.\n",
      " 1257. 1258. 1259. 1260. 1261. 1262. 1263. 1264. 1265. 1266. 1267. 1268.\n",
      " 1269. 1270. 1271. 1272. 1273. 1274. 1275. 1276. 1277. 1278. 1279. 1280.\n",
      " 1281. 1282. 1283. 1284. 1285. 1286. 1287. 1288. 1289. 1290. 1291. 1292.\n",
      " 1293. 1294. 1295. 1296. 1297. 1298. 1299. 1300. 1301. 1302. 1303. 1304.\n",
      " 1305. 1306. 1307. 1308. 1309. 1310. 1311. 1312. 1313. 1314. 1315. 1316.\n",
      " 1317. 1318. 1319. 1320. 1321. 1322. 1323. 1324. 1325. 1326. 1327. 1328.\n",
      " 1329. 1330. 1331. 1332. 1333. 1334. 1335. 1336. 1337. 1338. 1339. 1340.\n",
      " 1341. 1342. 1343. 1344. 1345. 1346. 1347. 1348. 1349. 1350. 1351. 1352.\n",
      " 1353. 1354. 1355. 1356. 1357. 1358. 1359. 1360. 1361. 1362. 1363. 1364.\n",
      " 1365. 1366. 1367. 1368. 1369. 1370. 1371. 1372. 1373. 1374. 1375. 1376.\n",
      " 1377. 1378. 1379. 1380. 1381. 1382. 1383. 1384. 1385. 1386. 1387. 1388.\n",
      " 1389. 1390. 1391. 1392. 1393. 1394. 1395. 1396. 1397. 1398. 1399. 1400.\n",
      " 1401. 1402. 1403. 1404. 1405. 1406. 1407. 1408. 1409. 1410. 1411. 1412.\n",
      " 1413. 1414. 1415. 1416. 1417. 1418. 1419. 1420. 1421. 1422. 1423. 1424.\n",
      " 1425. 1426. 1427. 1428. 1429. 1430. 1431. 1432. 1433. 1434. 1435. 1436.\n",
      " 1437. 1438. 1439. 1440. 1441. 1442. 1443. 1444. 1445. 1446. 1447. 1448.\n",
      " 1449. 1450. 1451. 1452. 1453. 1454. 1455. 1456. 1457. 1458. 1459. 1460.\n",
      " 1461. 1462. 1463. 1464.]\n",
      "PosetType: <data_processing.SubsetPosetType object at 0x000001B32B231AC8>\n",
      "PosetDims: 156089 inputdims: 156089\n",
      "top_size_const: True\n",
      "boot_size_const: True\n",
      "top_size: 1\n",
      "boot_size: 1\n",
      "efficient_rep_top:   (0, 127)\t1\n",
      "  (1, 5)\t1\n",
      "  (2, 11)\t1\n",
      "  (3, 64)\t1\n",
      "  (4, 91)\t1\n",
      "  (5, 117)\t1\n",
      "  (6, 127)\t1\n",
      "  (7, 141)\t1\n",
      "  (8, 159)\t1\n",
      "  (9, 204)\t1\n",
      "  (10, 206)\t1\n",
      "  (11, 243)\t1\n",
      "  (12, 273)\t1\n",
      "  (13, 311)\t1\n",
      "  (14, 316)\t1\n",
      "  (15, 15)\t1\n",
      "  (16, 19)\t1\n",
      "  (17, 34)\t1\n",
      "  (18, 42)\t1\n",
      "  (19, 52)\t1\n",
      "  (20, 64)\t1\n",
      "  (21, 70)\t1\n",
      "  (22, 72)\t1\n",
      "  (23, 76)\t1\n",
      "  (24, 92)\t1\n",
      "  :\t:\n",
      "  (156064, 71)\t1\n",
      "  (156065, 108)\t1\n",
      "  (156066, 116)\t1\n",
      "  (156067, 121)\t1\n",
      "  (156068, 141)\t1\n",
      "  (156069, 145)\t1\n",
      "  (156070, 166)\t1\n",
      "  (156071, 184)\t1\n",
      "  (156072, 199)\t1\n",
      "  (156073, 207)\t1\n",
      "  (156074, 234)\t1\n",
      "  (156075, 247)\t1\n",
      "  (156076, 260)\t1\n",
      "  (156077, 271)\t1\n",
      "  (156078, 296)\t1\n",
      "  (156079, 310)\t1\n",
      "  (156080, 319)\t1\n",
      "  (156081, 325)\t1\n",
      "  (156082, 336)\t1\n",
      "  (156083, 337)\t1\n",
      "  (156084, 52)\t1\n",
      "  (156085, 71)\t1\n",
      "  (156086, 108)\t1\n",
      "  (156087, 145)\t1\n",
      "  (156088, 234)\t1\n",
      "efficient_rep_boot:   (0, 227)\t1\n",
      "  (1, 253)\t1\n",
      "  (2, 122)\t1\n",
      "  (3, 331)\t1\n",
      "  (4, 346)\t1\n",
      "  (5, 236)\t1\n",
      "  (6, 125)\t1\n",
      "  (7, 167)\t1\n",
      "  (8, 32)\t1\n",
      "  (9, 323)\t1\n",
      "  (10, 187)\t1\n",
      "  (11, 337)\t1\n",
      "  (12, 310)\t1\n",
      "  (13, 296)\t1\n",
      "  (14, 124)\t1\n",
      "  (15, 267)\t1\n",
      "  (16, 290)\t1\n",
      "  (17, 205)\t1\n",
      "  (18, 287)\t1\n",
      "  (19, 83)\t1\n",
      "  (20, 58)\t1\n",
      "  (21, 115)\t1\n",
      "  (22, 33)\t1\n",
      "  (23, 195)\t1\n",
      "  (24, 164)\t1\n",
      "  :\t:\n",
      "  (156064, 281)\t1\n",
      "  (156065, 103)\t1\n",
      "  (156066, 64)\t1\n",
      "  (156067, 354)\t1\n",
      "  (156068, 351)\t1\n",
      "  (156069, 3)\t1\n",
      "  (156070, 342)\t1\n",
      "  (156071, 85)\t1\n",
      "  (156072, 113)\t1\n",
      "  (156073, 112)\t1\n",
      "  (156074, 362)\t1\n",
      "  (156075, 285)\t1\n",
      "  (156076, 206)\t1\n",
      "  (156077, 267)\t1\n",
      "  (156078, 15)\t1\n",
      "  (156079, 14)\t1\n",
      "  (156080, 335)\t1\n",
      "  (156081, 317)\t1\n",
      "  (156082, 243)\t1\n",
      "  (156083, 213)\t1\n",
      "  (156084, 121)\t1\n",
      "  (156085, 247)\t1\n",
      "  (156086, 325)\t1\n",
      "  (156087, 296)\t1\n",
      "  (156088, 116)\t1\n"
     ]
    }
   ],
   "source": [
    "show_values_for_tests(ncaa_test, NCAA_raw_file.WTeamID.values)"
   ]
  }
 ],
 "metadata": {
  "kernelspec": {
   "display_name": "Python 3",
   "language": "python",
   "name": "python3"
  },
  "language_info": {
   "codemirror_mode": {
    "name": "ipython",
    "version": 3
   },
   "file_extension": ".py",
   "mimetype": "text/x-python",
   "name": "python",
   "nbconvert_exporter": "python",
   "pygments_lexer": "ipython3",
   "version": "3.7.1"
  }
 },
 "nbformat": 4,
 "nbformat_minor": 2
}
