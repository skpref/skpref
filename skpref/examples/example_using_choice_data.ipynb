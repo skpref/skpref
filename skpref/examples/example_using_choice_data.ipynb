{
 "cells": [
  {
   "cell_type": "code",
   "execution_count": 1,
   "metadata": {},
   "outputs": [],
   "source": [
    "import pandas as pd\n",
    "import sys\n",
    "sys.path.insert(0, \"../..\")\n",
    "from skpref.random_utility import BradleyTerry\n",
    "from skpref.task import ChoiceTask\n",
    "from sklearn.model_selection import train_test_split\n",
    "import pickle\n",
    "from collections import Counter\n",
    "from skpref.model_selection import GridSearchCV"
   ]
  },
  {
   "cell_type": "code",
   "execution_count": 2,
   "metadata": {},
   "outputs": [],
   "source": [
    "with open('../examples/data/product_choices.pickle', 'rb') as handle:\n",
    "    choice_data = pickle.load(handle)\n",
    "    \n",
    "with open('../examples/data/product_info.pickle', 'rb') as handle:\n",
    "    product_data = pickle.load(handle)"
   ]
  },
  {
   "cell_type": "code",
   "execution_count": 3,
   "metadata": {},
   "outputs": [
    {
     "data": {
      "text/html": [
       "<div>\n",
       "<style scoped>\n",
       "    .dataframe tbody tr th:only-of-type {\n",
       "        vertical-align: middle;\n",
       "    }\n",
       "\n",
       "    .dataframe tbody tr th {\n",
       "        vertical-align: top;\n",
       "    }\n",
       "\n",
       "    .dataframe thead th {\n",
       "        text-align: right;\n",
       "    }\n",
       "</style>\n",
       "<table border=\"1\" class=\"dataframe\">\n",
       "  <thead>\n",
       "    <tr style=\"text-align: right;\">\n",
       "      <th></th>\n",
       "      <th>STORE_ID</th>\n",
       "      <th>BASKET_ID</th>\n",
       "      <th>choice</th>\n",
       "      <th>alternatives</th>\n",
       "    </tr>\n",
       "  </thead>\n",
       "  <tbody>\n",
       "    <tr>\n",
       "      <th>0</th>\n",
       "      <td>286</td>\n",
       "      <td>29483925362</td>\n",
       "      <td>[6396581]</td>\n",
       "      <td>[5582789, 5584007, 951703, 6396581]</td>\n",
       "    </tr>\n",
       "    <tr>\n",
       "      <th>1</th>\n",
       "      <td>286</td>\n",
       "      <td>29773175255</td>\n",
       "      <td>[5584007]</td>\n",
       "      <td>[5582789, 5584007, 951703, 6396581]</td>\n",
       "    </tr>\n",
       "    <tr>\n",
       "      <th>2</th>\n",
       "      <td>286</td>\n",
       "      <td>30673440294</td>\n",
       "      <td>[5584007]</td>\n",
       "      <td>[5582789, 5584007, 951703, 6396581]</td>\n",
       "    </tr>\n",
       "    <tr>\n",
       "      <th>3</th>\n",
       "      <td>286</td>\n",
       "      <td>32269485930</td>\n",
       "      <td>[951703]</td>\n",
       "      <td>[5582789, 5584007, 951703, 6396581]</td>\n",
       "    </tr>\n",
       "    <tr>\n",
       "      <th>4</th>\n",
       "      <td>286</td>\n",
       "      <td>40876776136</td>\n",
       "      <td>[5582789]</td>\n",
       "      <td>[5582789, 5584007, 951703, 6396581]</td>\n",
       "    </tr>\n",
       "  </tbody>\n",
       "</table>\n",
       "</div>"
      ],
      "text/plain": [
       "   STORE_ID    BASKET_ID     choice                         alternatives\n",
       "0       286  29483925362  [6396581]  [5582789, 5584007, 951703, 6396581]\n",
       "1       286  29773175255  [5584007]  [5582789, 5584007, 951703, 6396581]\n",
       "2       286  30673440294  [5584007]  [5582789, 5584007, 951703, 6396581]\n",
       "3       286  32269485930   [951703]  [5582789, 5584007, 951703, 6396581]\n",
       "4       286  40876776136  [5582789]  [5582789, 5584007, 951703, 6396581]"
      ]
     },
     "execution_count": 3,
     "metadata": {},
     "output_type": "execute_result"
    }
   ],
   "source": [
    "choice_data.head()"
   ]
  },
  {
   "cell_type": "code",
   "execution_count": 4,
   "metadata": {},
   "outputs": [
    {
     "data": {
      "text/html": [
       "<div>\n",
       "<style scoped>\n",
       "    .dataframe tbody tr th:only-of-type {\n",
       "        vertical-align: middle;\n",
       "    }\n",
       "\n",
       "    .dataframe tbody tr th {\n",
       "        vertical-align: top;\n",
       "    }\n",
       "\n",
       "    .dataframe thead th {\n",
       "        text-align: right;\n",
       "    }\n",
       "</style>\n",
       "<table border=\"1\" class=\"dataframe\">\n",
       "  <thead>\n",
       "    <tr style=\"text-align: right;\">\n",
       "      <th></th>\n",
       "      <th>PRODUCT_ID</th>\n",
       "      <th>prod_size</th>\n",
       "      <th>price</th>\n",
       "      <th>price_per_size</th>\n",
       "    </tr>\n",
       "  </thead>\n",
       "  <tbody>\n",
       "    <tr>\n",
       "      <th>0</th>\n",
       "      <td>849098</td>\n",
       "      <td>7.0</td>\n",
       "      <td>1.021950</td>\n",
       "      <td>0.145993</td>\n",
       "    </tr>\n",
       "    <tr>\n",
       "      <th>1</th>\n",
       "      <td>951703</td>\n",
       "      <td>4.0</td>\n",
       "      <td>0.568998</td>\n",
       "      <td>0.142249</td>\n",
       "    </tr>\n",
       "    <tr>\n",
       "      <th>2</th>\n",
       "      <td>5578643</td>\n",
       "      <td>6.0</td>\n",
       "      <td>0.393425</td>\n",
       "      <td>0.065571</td>\n",
       "    </tr>\n",
       "    <tr>\n",
       "      <th>3</th>\n",
       "      <td>5582789</td>\n",
       "      <td>6.0</td>\n",
       "      <td>0.392923</td>\n",
       "      <td>0.065487</td>\n",
       "    </tr>\n",
       "    <tr>\n",
       "      <th>4</th>\n",
       "      <td>5584007</td>\n",
       "      <td>6.0</td>\n",
       "      <td>0.393564</td>\n",
       "      <td>0.065594</td>\n",
       "    </tr>\n",
       "  </tbody>\n",
       "</table>\n",
       "</div>"
      ],
      "text/plain": [
       "   PRODUCT_ID  prod_size     price  price_per_size\n",
       "0      849098        7.0  1.021950        0.145993\n",
       "1      951703        4.0  0.568998        0.142249\n",
       "2     5578643        6.0  0.393425        0.065571\n",
       "3     5582789        6.0  0.392923        0.065487\n",
       "4     5584007        6.0  0.393564        0.065594"
      ]
     },
     "execution_count": 4,
     "metadata": {},
     "output_type": "execute_result"
    }
   ],
   "source": [
    "product_data.head()"
   ]
  },
  {
   "cell_type": "code",
   "execution_count": 5,
   "metadata": {},
   "outputs": [],
   "source": [
    "train, test = train_test_split(choice_data, random_state=1, test_size=0.1)"
   ]
  },
  {
   "cell_type": "code",
   "execution_count": 6,
   "metadata": {},
   "outputs": [],
   "source": [
    "products_bought_train = ChoiceTask(train, 'alternatives', 'choice', features_to_use=['price_per_size', 'prod_size'], secondary_table=product_data,\n",
    "                             secondary_to_primary_link={\"PRODUCT_ID\": ['alternatives', 'choice']})\n",
    "products_bought_test = ChoiceTask(test, 'alternatives', 'choice', features_to_use=['price_per_size', 'prod_size'], secondary_table=product_data,\n",
    "                             secondary_to_primary_link={\"PRODUCT_ID\": ['alternatives', 'choice']})"
   ]
  },
  {
   "cell_type": "code",
   "execution_count": 7,
   "metadata": {},
   "outputs": [],
   "source": [
    "mybt = BradleyTerry(method='BFGS', alpha=1e-5)\n",
    "mybt.fit_task(products_bought_train)"
   ]
  },
  {
   "cell_type": "code",
   "execution_count": 8,
   "metadata": {},
   "outputs": [
    {
     "name": "stdout",
     "output_type": "stream",
     "text": [
      "Most popular product_ids based on amounts purchased\n",
      "[(5584007, 626), (5582789, 503), (5585727, 439), (5586076, 331), (951703, 266), (5584100, 248), (849098, 219), (5578643, 210), (6396581, 156), (5591746, 2)]\n",
      "Bradley Terry rank of items given the covariates\n",
      "[5584007 5582789  951703 5585727 5586076  849098 5578643 5584100 6396581\n",
      " 5591746]\n"
     ]
    }
   ],
   "source": [
    "# find most popular product ids\n",
    "counter = Counter()\n",
    "j = []\n",
    "for i in choice_data.choice.values:\n",
    "    j = j + [k for k in i]\n",
    "for z in j:\n",
    "    counter[z] += 1\n",
    "\n",
    "print('Most popular product_ids based on amounts purchased')\n",
    "print(counter.most_common())\n",
    "print(\"Bradley Terry rank of items given the covariates\")\n",
    "print(mybt.rank_entities(ascending=False))"
   ]
  },
  {
   "cell_type": "code",
   "execution_count": 9,
   "metadata": {},
   "outputs": [
    {
     "data": {
      "text/plain": [
       "array([0.58825521, 0.6658351 , 0.73734034, ..., 0.49196996, 0.62266418,\n",
       "       0.40702812])"
      ]
     },
     "execution_count": 9,
     "metadata": {},
     "output_type": "execute_result"
    }
   ],
   "source": [
    "mybt.predict_proba_task(products_bought_test)"
   ]
  },
  {
   "cell_type": "code",
   "execution_count": 10,
   "metadata": {},
   "outputs": [
    {
     "data": {
      "text/plain": [
       "array([5584007, 5584007, 5584007, ...,  951703,  849098, 5585727],\n",
       "      dtype=int64)"
      ]
     },
     "execution_count": 10,
     "metadata": {},
     "output_type": "execute_result"
    }
   ],
   "source": [
    "mybt.predict_choice_task(products_bought_test)"
   ]
  },
  {
   "cell_type": "code",
   "execution_count": 11,
   "metadata": {},
   "outputs": [
    {
     "data": {
      "text/plain": [
       "array([1, 1, 1, ..., 0, 1, 0])"
      ]
     },
     "execution_count": 11,
     "metadata": {},
     "output_type": "execute_result"
    }
   ],
   "source": [
    "mybt.predict_task(products_bought_test)"
   ]
  },
  {
   "cell_type": "markdown",
   "metadata": {},
   "source": [
    "# Example using Grid Search"
   ]
  },
  {
   "cell_type": "code",
   "execution_count": 12,
   "metadata": {},
   "outputs": [
    {
     "name": "stdout",
     "output_type": "stream",
     "text": [
      "The model with the best parameters was:\n",
      "BradleyTerry(alpha=0.5, initial_params=None, max_iter=None, method='BFGS',\n",
      "       tol=1e-05)\n",
      "With a score of -0.645979957349246\n",
      "All the trials results summarised in descending score\n",
      "   alpha     method  mean_test_score\n",
      "2    0.5       BFGS        -0.645980\n",
      "3    0.5  Newton-CG        -0.645980\n",
      "4    1.0       BFGS        -0.646007\n",
      "5    1.0  Newton-CG        -0.646007\n",
      "0    0.1       BFGS        -0.646209\n",
      "1    0.1  Newton-CG        -0.646209\n"
     ]
    }
   ],
   "source": [
    "products_bought_train = ChoiceTask(train, 'alternatives', 'choice', features_to_use=None)\n",
    "products_bought_test = ChoiceTask(test, 'alternatives', 'choice', features_to_use=None)\n",
    "to_tune = {'alpha': [0.1, 0.5, 1], 'method': ['BFGS', 'Newton-CG']}\n",
    "gs_bt = GridSearchCV(BradleyTerry(), to_tune,  cv=3)\n",
    "gs_bt.fit_task(products_bought_train)\n",
    "gs_bt.inspect_results()"
   ]
  },
  {
   "cell_type": "code",
   "execution_count": 13,
   "metadata": {},
   "outputs": [
    {
     "data": {
      "text/plain": [
       "[5584007,\n",
       " 5582789,\n",
       " 5585727,\n",
       " 5586076,\n",
       " 951703,\n",
       " 849098,\n",
       " 5578643,\n",
       " 5584100,\n",
       " 6396581,\n",
       " 5591746]"
      ]
     },
     "execution_count": 13,
     "metadata": {},
     "output_type": "execute_result"
    }
   ],
   "source": [
    "gs_bt.rank_entities(ascending=False)"
   ]
  },
  {
   "cell_type": "code",
   "execution_count": 14,
   "metadata": {},
   "outputs": [
    {
     "data": {
      "text/plain": [
       "array([0.41180851, 0.66568507, 0.73717355, ..., 0.50803425, 0.62245114,\n",
       "       0.40701829])"
      ]
     },
     "execution_count": 14,
     "metadata": {},
     "output_type": "execute_result"
    }
   ],
   "source": [
    "gs_bt.predict_proba_task(products_bought_test)"
   ]
  }
 ],
 "metadata": {
  "kernelspec": {
   "display_name": "Python 3",
   "language": "python",
   "name": "python3"
  },
  "language_info": {
   "codemirror_mode": {
    "name": "ipython",
    "version": 3
   },
   "file_extension": ".py",
   "mimetype": "text/x-python",
   "name": "python",
   "nbconvert_exporter": "python",
   "pygments_lexer": "ipython3",
   "version": "3.7.1"
  }
 },
 "nbformat": 4,
 "nbformat_minor": 2
}
