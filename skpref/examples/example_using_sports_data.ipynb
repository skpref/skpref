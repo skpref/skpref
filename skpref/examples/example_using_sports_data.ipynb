{
 "cells": [
  {
   "cell_type": "markdown",
   "metadata": {},
   "source": [
    "# Bradley Terry example notebook\n",
    "This notebook fits a simple Bradley Terry model without covariates on the 2016 NBA season and predicts the encounters of the 2017 season."
   ]
  },
  {
   "cell_type": "code",
   "execution_count": 1,
   "metadata": {},
   "outputs": [],
   "source": [
    "import sys\n",
    "sys.path.insert(0, \"../..\")\n",
    "from skpref.random_utility import BradleyTerry\n",
    "from skpref.task import PairwiseComparisonTask\n",
    "from skpref.base import ClassificationReducer\n",
    "import pandas as pd\n",
    "import numpy as np\n",
    "from skpref.model_selection import GridSearchCV\n",
    "from sklearn.linear_model import LogisticRegression\n",
    "from sklearn.metrics import f1_score"
   ]
  },
  {
   "cell_type": "code",
   "execution_count": 2,
   "metadata": {},
   "outputs": [],
   "source": [
    "NBA_file_loc = 'data/NBA_matches.csv'"
   ]
  },
  {
   "cell_type": "code",
   "execution_count": 3,
   "metadata": {},
   "outputs": [],
   "source": [
    "NBA_results = pd.read_csv(NBA_file_loc)\n",
    "season_split = 2016\n",
    "train_data = NBA_results[NBA_results.season_start == season_split].copy()\n",
    "test_data = NBA_results[NBA_results.season_start == season_split+1].copy()"
   ]
  },
  {
   "cell_type": "code",
   "execution_count": 4,
   "metadata": {},
   "outputs": [],
   "source": [
    "NBA_results_task_train = PairwiseComparisonTask(\n",
    "    primary_table=train_data,\n",
    "    primary_table_alternatives_names=['team1', 'team2'],\n",
    "    primary_table_target_name ='team1_wins',\n",
    "    target_column_correspondence='team1',\n",
    "    features_to_use=None\n",
    ")\n",
    "\n",
    "NBA_results_task_predict = PairwiseComparisonTask(\n",
    "    primary_table=test_data,\n",
    "    primary_table_alternatives_names=['team1', 'team2'],\n",
    "    primary_table_target_name ='team1_wins',\n",
    "    target_column_correspondence='team1',\n",
    "    features_to_use=None\n",
    ")"
   ]
  },
  {
   "cell_type": "markdown",
   "metadata": {},
   "source": [
    "## Let's fit a reduction to logistic regression first"
   ]
  },
  {
   "cell_type": "code",
   "execution_count": 5,
   "metadata": {},
   "outputs": [
    {
     "name": "stderr",
     "output_type": "stream",
     "text": [
      "C:\\Users\\Istvan\\Anaconda3\\lib\\site-packages\\sklearn\\linear_model\\logistic.py:433: FutureWarning: Default solver will be changed to 'lbfgs' in 0.22. Specify a solver to silence this warning.\n",
      "  FutureWarning)\n"
     ]
    },
    {
     "data": {
      "text/plain": [
       "array([0, 0, 0, ..., 1, 1, 0], dtype=int64)"
      ]
     },
     "execution_count": 5,
     "metadata": {},
     "output_type": "execute_result"
    }
   ],
   "source": [
    "my_log_red = ClassificationReducer(LogisticRegression())\n",
    "my_log_red.fit_task(NBA_results_task_train)\n",
    "my_log_red.predict_task(NBA_results_task_predict)"
   ]
  },
  {
   "cell_type": "code",
   "execution_count": 6,
   "metadata": {},
   "outputs": [
    {
     "data": {
      "text/plain": [
       "array([[0.58323397, 0.41676603],\n",
       "       [0.58323397, 0.41676603],\n",
       "       [0.58323397, 0.41676603],\n",
       "       ...,\n",
       "       [0.41684703, 0.58315297],\n",
       "       [0.41684703, 0.58315297],\n",
       "       [0.58323397, 0.41676603]])"
      ]
     },
     "execution_count": 6,
     "metadata": {},
     "output_type": "execute_result"
    }
   ],
   "source": [
    "# All this learns so far is the home team advantage, since its the only covariate in the test_data table\n",
    "my_log_red.predict_proba_task(NBA_results_task_predict)"
   ]
  },
  {
   "cell_type": "markdown",
   "metadata": {},
   "source": [
    "## Now let's fit a Bradley Terry model"
   ]
  },
  {
   "cell_type": "code",
   "execution_count": 7,
   "metadata": {},
   "outputs": [
    {
     "data": {
      "text/plain": [
       "['Golden State Warriors',\n",
       " 'San Antonio Spurs',\n",
       " 'Houston Rockets',\n",
       " 'Boston Celtics',\n",
       " 'Los Angeles Clippers',\n",
       " 'Utah Jazz',\n",
       " 'Cleveland Cavaliers',\n",
       " 'Toronto Raptors',\n",
       " 'Washington Wizards',\n",
       " 'Oklahoma City Thunder',\n",
       " 'Memphis Grizzlies',\n",
       " 'Atlanta Hawks',\n",
       " 'Portland Trail Blazers',\n",
       " 'Milwaukee Bucks',\n",
       " 'Indiana Pacers',\n",
       " 'Miami Heat',\n",
       " 'Chicago Bulls',\n",
       " 'Denver Nuggets',\n",
       " 'Detroit Pistons',\n",
       " 'Charlotte Hornets',\n",
       " 'New Orleans Pelicans',\n",
       " 'Dallas Mavericks',\n",
       " 'Sacramento Kings',\n",
       " 'Minnesota Timberwolves',\n",
       " 'New York Knicks',\n",
       " 'Orlando Magic',\n",
       " 'Philadelphia 76ers',\n",
       " 'Los Angeles Lakers',\n",
       " 'Phoenix Suns',\n",
       " 'Brooklyn Nets']"
      ]
     },
     "execution_count": 7,
     "metadata": {},
     "output_type": "execute_result"
    }
   ],
   "source": [
    "mybt = BradleyTerry(method='BFGS', alpha=1e-5)\n",
    "mybt.fit_task(NBA_results_task_train)\n",
    "mybt.rank_entities(ascending=False)"
   ]
  },
  {
   "cell_type": "code",
   "execution_count": 8,
   "metadata": {},
   "outputs": [
    {
     "data": {
      "text/html": [
       "<div>\n",
       "<style scoped>\n",
       "    .dataframe tbody tr th:only-of-type {\n",
       "        vertical-align: middle;\n",
       "    }\n",
       "\n",
       "    .dataframe tbody tr th {\n",
       "        vertical-align: top;\n",
       "    }\n",
       "\n",
       "    .dataframe thead th {\n",
       "        text-align: right;\n",
       "    }\n",
       "</style>\n",
       "<table border=\"1\" class=\"dataframe\">\n",
       "  <thead>\n",
       "    <tr style=\"text-align: right;\">\n",
       "      <th></th>\n",
       "      <th>team1</th>\n",
       "      <th>team2</th>\n",
       "      <th>season_start</th>\n",
       "      <th>team1_wins</th>\n",
       "      <th>team_1_home</th>\n",
       "    </tr>\n",
       "  </thead>\n",
       "  <tbody>\n",
       "    <tr>\n",
       "      <th>7380</th>\n",
       "      <td>Atlanta Hawks</td>\n",
       "      <td>Dallas Mavericks</td>\n",
       "      <td>2017</td>\n",
       "      <td>1</td>\n",
       "      <td>0</td>\n",
       "    </tr>\n",
       "    <tr>\n",
       "      <th>7381</th>\n",
       "      <td>Atlanta Hawks</td>\n",
       "      <td>Charlotte Hornets</td>\n",
       "      <td>2017</td>\n",
       "      <td>0</td>\n",
       "      <td>0</td>\n",
       "    </tr>\n",
       "    <tr>\n",
       "      <th>7382</th>\n",
       "      <td>Atlanta Hawks</td>\n",
       "      <td>Brooklyn Nets</td>\n",
       "      <td>2017</td>\n",
       "      <td>0</td>\n",
       "      <td>0</td>\n",
       "    </tr>\n",
       "    <tr>\n",
       "      <th>7383</th>\n",
       "      <td>Atlanta Hawks</td>\n",
       "      <td>Miami Heat</td>\n",
       "      <td>2017</td>\n",
       "      <td>0</td>\n",
       "      <td>0</td>\n",
       "    </tr>\n",
       "    <tr>\n",
       "      <th>7384</th>\n",
       "      <td>Atlanta Hawks</td>\n",
       "      <td>Chicago Bulls</td>\n",
       "      <td>2017</td>\n",
       "      <td>0</td>\n",
       "      <td>0</td>\n",
       "    </tr>\n",
       "  </tbody>\n",
       "</table>\n",
       "</div>"
      ],
      "text/plain": [
       "              team1              team2  season_start  team1_wins  team_1_home\n",
       "7380  Atlanta Hawks   Dallas Mavericks          2017           1            0\n",
       "7381  Atlanta Hawks  Charlotte Hornets          2017           0            0\n",
       "7382  Atlanta Hawks      Brooklyn Nets          2017           0            0\n",
       "7383  Atlanta Hawks         Miami Heat          2017           0            0\n",
       "7384  Atlanta Hawks      Chicago Bulls          2017           0            0"
      ]
     },
     "execution_count": 8,
     "metadata": {},
     "output_type": "execute_result"
    }
   ],
   "source": [
    "NBA_results_task_predict.primary_table.head()"
   ]
  },
  {
   "cell_type": "code",
   "execution_count": 9,
   "metadata": {},
   "outputs": [
    {
     "data": {
      "text/html": [
       "<div>\n",
       "<style scoped>\n",
       "    .dataframe tbody tr th:only-of-type {\n",
       "        vertical-align: middle;\n",
       "    }\n",
       "\n",
       "    .dataframe tbody tr th {\n",
       "        vertical-align: top;\n",
       "    }\n",
       "\n",
       "    .dataframe thead th {\n",
       "        text-align: right;\n",
       "    }\n",
       "</style>\n",
       "<table border=\"1\" class=\"dataframe\">\n",
       "  <thead>\n",
       "    <tr style=\"text-align: right;\">\n",
       "      <th></th>\n",
       "      <th>team1</th>\n",
       "      <th>team2</th>\n",
       "      <th>season_start</th>\n",
       "      <th>team1_wins</th>\n",
       "      <th>team_1_home</th>\n",
       "    </tr>\n",
       "  </thead>\n",
       "  <tbody>\n",
       "    <tr>\n",
       "      <th>9835</th>\n",
       "      <td>Washington Wizards</td>\n",
       "      <td>Houston Rockets</td>\n",
       "      <td>2017</td>\n",
       "      <td>0</td>\n",
       "      <td>0</td>\n",
       "    </tr>\n",
       "    <tr>\n",
       "      <th>9836</th>\n",
       "      <td>Washington Wizards</td>\n",
       "      <td>Cleveland Cavaliers</td>\n",
       "      <td>2017</td>\n",
       "      <td>0</td>\n",
       "      <td>0</td>\n",
       "    </tr>\n",
       "    <tr>\n",
       "      <th>9837</th>\n",
       "      <td>Washington Wizards</td>\n",
       "      <td>Atlanta Hawks</td>\n",
       "      <td>2017</td>\n",
       "      <td>0</td>\n",
       "      <td>1</td>\n",
       "    </tr>\n",
       "    <tr>\n",
       "      <th>9838</th>\n",
       "      <td>Washington Wizards</td>\n",
       "      <td>Boston Celtics</td>\n",
       "      <td>2017</td>\n",
       "      <td>1</td>\n",
       "      <td>1</td>\n",
       "    </tr>\n",
       "    <tr>\n",
       "      <th>9839</th>\n",
       "      <td>Washington Wizards</td>\n",
       "      <td>Orlando Magic</td>\n",
       "      <td>2017</td>\n",
       "      <td>0</td>\n",
       "      <td>0</td>\n",
       "    </tr>\n",
       "  </tbody>\n",
       "</table>\n",
       "</div>"
      ],
      "text/plain": [
       "                   team1                team2  season_start  team1_wins  \\\n",
       "9835  Washington Wizards      Houston Rockets          2017           0   \n",
       "9836  Washington Wizards  Cleveland Cavaliers          2017           0   \n",
       "9837  Washington Wizards        Atlanta Hawks          2017           0   \n",
       "9838  Washington Wizards       Boston Celtics          2017           1   \n",
       "9839  Washington Wizards        Orlando Magic          2017           0   \n",
       "\n",
       "      team_1_home  \n",
       "9835            0  \n",
       "9836            0  \n",
       "9837            1  \n",
       "9838            1  \n",
       "9839            0  "
      ]
     },
     "execution_count": 9,
     "metadata": {},
     "output_type": "execute_result"
    }
   ],
   "source": [
    "NBA_results_task_predict.primary_table.tail()"
   ]
  },
  {
   "cell_type": "code",
   "execution_count": 10,
   "metadata": {},
   "outputs": [
    {
     "data": {
      "text/plain": [
       "array([0.60677663, 0.58070679, 0.77310272, ..., 0.57782378, 0.44533727,\n",
       "       0.7343335 ])"
      ]
     },
     "execution_count": 10,
     "metadata": {},
     "output_type": "execute_result"
    }
   ],
   "source": [
    "mybt.predict_proba_task(NBA_results_task_predict)"
   ]
  },
  {
   "cell_type": "code",
   "execution_count": 11,
   "metadata": {},
   "outputs": [
    {
     "data": {
      "text/plain": [
       "array(['Atlanta Hawks', 'Atlanta Hawks', 'Atlanta Hawks', ...,\n",
       "       'Washington Wizards', 'Boston Celtics', 'Washington Wizards'],\n",
       "      dtype=object)"
      ]
     },
     "execution_count": 11,
     "metadata": {},
     "output_type": "execute_result"
    }
   ],
   "source": [
    "mybt.predict_choice_task(NBA_results_task_predict)"
   ]
  },
  {
   "cell_type": "code",
   "execution_count": 12,
   "metadata": {},
   "outputs": [
    {
     "data": {
      "text/plain": [
       "array([1, 1, 1, ..., 1, 0, 1])"
      ]
     },
     "execution_count": 12,
     "metadata": {},
     "output_type": "execute_result"
    }
   ],
   "source": [
    "mybt.predict_task(NBA_results_task_predict)"
   ]
  },
  {
   "cell_type": "markdown",
   "metadata": {},
   "source": [
    "## Run model with team salary budget"
   ]
  },
  {
   "cell_type": "code",
   "execution_count": 13,
   "metadata": {},
   "outputs": [
    {
     "data": {
      "text/html": [
       "<div>\n",
       "<style scoped>\n",
       "    .dataframe tbody tr th:only-of-type {\n",
       "        vertical-align: middle;\n",
       "    }\n",
       "\n",
       "    .dataframe tbody tr th {\n",
       "        vertical-align: top;\n",
       "    }\n",
       "\n",
       "    .dataframe thead th {\n",
       "        text-align: right;\n",
       "    }\n",
       "</style>\n",
       "<table border=\"1\" class=\"dataframe\">\n",
       "  <thead>\n",
       "    <tr style=\"text-align: right;\">\n",
       "      <th></th>\n",
       "      <th>team</th>\n",
       "      <th>season_start</th>\n",
       "      <th>salary</th>\n",
       "    </tr>\n",
       "  </thead>\n",
       "  <tbody>\n",
       "    <tr>\n",
       "      <th>0</th>\n",
       "      <td>Atlanta Hawks</td>\n",
       "      <td>2014</td>\n",
       "      <td>58337671</td>\n",
       "    </tr>\n",
       "    <tr>\n",
       "      <th>1</th>\n",
       "      <td>Atlanta Hawks</td>\n",
       "      <td>2015</td>\n",
       "      <td>71378126</td>\n",
       "    </tr>\n",
       "    <tr>\n",
       "      <th>2</th>\n",
       "      <td>Atlanta Hawks</td>\n",
       "      <td>2016</td>\n",
       "      <td>95957250</td>\n",
       "    </tr>\n",
       "    <tr>\n",
       "      <th>3</th>\n",
       "      <td>Atlanta Hawks</td>\n",
       "      <td>2017</td>\n",
       "      <td>99375302</td>\n",
       "    </tr>\n",
       "    <tr>\n",
       "      <th>4</th>\n",
       "      <td>Boston Celtics</td>\n",
       "      <td>2014</td>\n",
       "      <td>59418142</td>\n",
       "    </tr>\n",
       "  </tbody>\n",
       "</table>\n",
       "</div>"
      ],
      "text/plain": [
       "             team  season_start    salary\n",
       "0   Atlanta Hawks          2014  58337671\n",
       "1   Atlanta Hawks          2015  71378126\n",
       "2   Atlanta Hawks          2016  95957250\n",
       "3   Atlanta Hawks          2017  99375302\n",
       "4  Boston Celtics          2014  59418142"
      ]
     },
     "execution_count": 13,
     "metadata": {},
     "output_type": "execute_result"
    }
   ],
   "source": [
    "NBA_team_salary_budget = pd.read_csv('data/team_salary_budgets.csv')\n",
    "NBA_team_salary_budget.head()"
   ]
  },
  {
   "cell_type": "code",
   "execution_count": 14,
   "metadata": {},
   "outputs": [],
   "source": [
    "NBA_results_task_train = PairwiseComparisonTask(\n",
    "    primary_table=train_data,\n",
    "    primary_table_alternatives_names=['team1', 'team2'],\n",
    "    primary_table_target_name ='team1_wins',\n",
    "    target_column_correspondence='team1',\n",
    "    features_to_use=['salary'],\n",
    "    secondary_table=NBA_team_salary_budget,\n",
    "    secondary_to_primary_link={\n",
    "        'team': ['team1', 'team2'],\n",
    "        'season_start': 'season_start'\n",
    "    })\n",
    "\n",
    "NBA_results_task_predict = PairwiseComparisonTask(\n",
    "    primary_table=test_data,\n",
    "    primary_table_alternatives_names=['team1', 'team2'],\n",
    "    primary_table_target_name ='team1_wins',\n",
    "    target_column_correspondence='team1',\n",
    "    features_to_use=['salary'],\n",
    "    secondary_table=NBA_team_salary_budget,\n",
    "    secondary_to_primary_link={\n",
    "        'team': ['team1', 'team2'],\n",
    "        'season_start': 'season_start'\n",
    "    })"
   ]
  },
  {
   "cell_type": "markdown",
   "metadata": {},
   "source": [
    "# Let's fit a reduction to logistic regression with the salary covariate"
   ]
  },
  {
   "cell_type": "code",
   "execution_count": 15,
   "metadata": {},
   "outputs": [
    {
     "name": "stderr",
     "output_type": "stream",
     "text": [
      "C:\\Users\\Istvan\\Anaconda3\\lib\\site-packages\\sklearn\\linear_model\\logistic.py:433: FutureWarning: Default solver will be changed to 'lbfgs' in 0.22. Specify a solver to silence this warning.\n",
      "  FutureWarning)\n"
     ]
    },
    {
     "data": {
      "text/plain": [
       "array([1, 0, 1, ..., 1, 1, 1], dtype=int64)"
      ]
     },
     "execution_count": 15,
     "metadata": {},
     "output_type": "execute_result"
    }
   ],
   "source": [
    "my_log_red = ClassificationReducer(LogisticRegression())\n",
    "my_log_red.fit_task(NBA_results_task_train)\n",
    "my_log_red.predict_task(NBA_results_task_predict)"
   ]
  },
  {
   "cell_type": "code",
   "execution_count": 16,
   "metadata": {},
   "outputs": [
    {
     "data": {
      "text/plain": [
       "array([[0.44748774, 0.55251226],\n",
       "       [0.56864298, 0.43135702],\n",
       "       [0.48680567, 0.51319433],\n",
       "       ...,\n",
       "       [0.40573964, 0.59426036],\n",
       "       [0.46504682, 0.53495318],\n",
       "       [0.39150446, 0.60849554]])"
      ]
     },
     "execution_count": 16,
     "metadata": {},
     "output_type": "execute_result"
    }
   ],
   "source": [
    "# All this learns so far is the home team advantage, since its the only covariate in the test_data table\n",
    "my_log_red.predict_proba_task(NBA_results_task_predict)"
   ]
  },
  {
   "cell_type": "markdown",
   "metadata": {},
   "source": [
    "# Bradley Terry model with salary covariate"
   ]
  },
  {
   "cell_type": "code",
   "execution_count": 17,
   "metadata": {},
   "outputs": [
    {
     "data": {
      "text/plain": [
       "array(['Golden State Warriors', 'San Antonio Spurs', 'Houston Rockets',\n",
       "       'Utah Jazz', 'Boston Celtics', 'Oklahoma City Thunder',\n",
       "       'Washington Wizards', 'Toronto Raptors', 'Los Angeles Clippers',\n",
       "       'Denver Nuggets', 'Atlanta Hawks', 'Indiana Pacers',\n",
       "       'Chicago Bulls', 'Cleveland Cavaliers', 'Memphis Grizzlies',\n",
       "       'Miami Heat', 'Milwaukee Bucks', 'Charlotte Hornets',\n",
       "       'Minnesota Timberwolves', 'Portland Trail Blazers',\n",
       "       'New Orleans Pelicans', 'Sacramento Kings', 'Detroit Pistons',\n",
       "       'Dallas Mavericks', 'Philadelphia 76ers', 'New York Knicks',\n",
       "       'Phoenix Suns', 'Los Angeles Lakers', 'Orlando Magic',\n",
       "       'Brooklyn Nets'], dtype=object)"
      ]
     },
     "execution_count": 17,
     "metadata": {},
     "output_type": "execute_result"
    }
   ],
   "source": [
    "mybt = BradleyTerry(method='BFGS', alpha=1e-5)\n",
    "mybt.fit_task(NBA_results_task_train)\n",
    "mybt.rank_entities(ascending=False)"
   ]
  },
  {
   "cell_type": "code",
   "execution_count": 18,
   "metadata": {},
   "outputs": [
    {
     "data": {
      "text/plain": [
       "array([0.69081236, 0.47898395, 0.74603095, ..., 0.65408203, 0.42937596,\n",
       "       0.82114576])"
      ]
     },
     "execution_count": 18,
     "metadata": {},
     "output_type": "execute_result"
    }
   ],
   "source": [
    "mybt.predict_proba_task(NBA_results_task_predict)"
   ]
  },
  {
   "cell_type": "code",
   "execution_count": 19,
   "metadata": {},
   "outputs": [
    {
     "data": {
      "text/plain": [
       "array(['Atlanta Hawks', 'Charlotte Hornets', 'Atlanta Hawks', ...,\n",
       "       'Washington Wizards', 'Boston Celtics', 'Washington Wizards'],\n",
       "      dtype=object)"
      ]
     },
     "execution_count": 19,
     "metadata": {},
     "output_type": "execute_result"
    }
   ],
   "source": [
    "mybt.predict_choice_task(NBA_results_task_predict)"
   ]
  },
  {
   "cell_type": "code",
   "execution_count": 20,
   "metadata": {},
   "outputs": [
    {
     "data": {
      "text/plain": [
       "array([1, 0, 1, ..., 1, 0, 1])"
      ]
     },
     "execution_count": 20,
     "metadata": {},
     "output_type": "execute_result"
    }
   ],
   "source": [
    "mybt.predict_task(NBA_results_task_predict)"
   ]
  },
  {
   "cell_type": "markdown",
   "metadata": {},
   "source": [
    "# Example using GridSearchCV()"
   ]
  },
  {
   "cell_type": "code",
   "execution_count": 21,
   "metadata": {},
   "outputs": [
    {
     "name": "stdout",
     "output_type": "stream",
     "text": [
      "The model with the best parameters was:\n",
      "BradleyTerry(alpha=2, initial_params=None, max_iter=None, method='BFGS',\n",
      "       tol=1e-05)\n",
      "With a score of -0.6265008194657992\n",
      "All the trials results summarised in descending score\n",
      "   alpha method  mean_test_score\n",
      "1      2   BFGS        -0.626501\n",
      "0      1   BFGS        -0.626742\n",
      "2      4   BFGS        -0.628853\n"
     ]
    }
   ],
   "source": [
    "to_tune = {'alpha': [1, 2, 4], 'method': ['BFGS']}\n",
    "gs_bt = GridSearchCV(BradleyTerry(), to_tune,  cv=3, scoring='neg_log_loss')\n",
    "gs_bt.fit_task(NBA_results_task_train)\n",
    "gs_bt.inspect_results()"
   ]
  },
  {
   "cell_type": "code",
   "execution_count": 22,
   "metadata": {},
   "outputs": [
    {
     "name": "stdout",
     "output_type": "stream",
     "text": [
      "The model with the best parameters was:\n",
      "BradleyTerry(alpha=4, initial_params=None, max_iter=None, method='BFGS',\n",
      "       tol=1e-05)\n",
      "With a score of 0.6337744652191033\n",
      "All the trials results summarised in descending score\n",
      "   alpha method  mean_test_score\n",
      "2      4   BFGS         0.633774\n",
      "1      2   BFGS         0.631136\n",
      "0      1   BFGS         0.630085\n"
     ]
    }
   ],
   "source": [
    "# Showing that sklearn.metrics works also\n",
    "to_tune = {'alpha': [1, 2, 4], 'method': ['BFGS']}\n",
    "gs_bt = GridSearchCV(BradleyTerry(), to_tune,  cv=3, scoring=f1_score)\n",
    "gs_bt.fit_task(NBA_results_task_train)\n",
    "gs_bt.inspect_results()"
   ]
  },
  {
   "cell_type": "code",
   "execution_count": 23,
   "metadata": {},
   "outputs": [
    {
     "name": "stdout",
     "output_type": "stream",
     "text": [
      "The model with the best parameters was:\n",
      "ClassificationReducer(model=LogisticRegression(C=4, class_weight=None, dual=False, fit_intercept=False,\n",
      "          intercept_scaling=1, max_iter=100, multi_class='warn',\n",
      "          n_jobs=None, penalty='l2', random_state=None, solver='saga',\n",
      "          tol=0.0001, verbose=0, warm_start=False))\n",
      "With a score of -0.6865146258304833\n",
      "All the trials results summarised in descending score\n",
      "    model__C  model__fit_intercept model__penalty model__solver  \\\n",
      "15       4.0                 False             l2          saga   \n",
      "11       2.0                 False             l2          saga   \n",
      "9        2.0                  True             l2          saga   \n",
      "0        0.5                  True             l1          saga   \n",
      "17       8.0                  True             l2          saga   \n",
      "12       4.0                  True             l1          saga   \n",
      "4        1.0                  True             l1          saga   \n",
      "3        0.5                 False             l2          saga   \n",
      "10       2.0                 False             l1          saga   \n",
      "7        1.0                 False             l2          saga   \n",
      "1        0.5                  True             l2          saga   \n",
      "2        0.5                 False             l1          saga   \n",
      "18       8.0                 False             l1          saga   \n",
      "6        1.0                 False             l1          saga   \n",
      "13       4.0                  True             l2          saga   \n",
      "5        1.0                  True             l2          saga   \n",
      "16       8.0                  True             l1          saga   \n",
      "14       4.0                 False             l1          saga   \n",
      "8        2.0                  True             l1          saga   \n",
      "19       8.0                 False             l2          saga   \n",
      "\n",
      "    mean_test_score  \n",
      "15        -0.686515  \n",
      "11        -0.686516  \n",
      "9         -0.686517  \n",
      "0         -0.686517  \n",
      "17        -0.686517  \n",
      "12        -0.686518  \n",
      "4         -0.686518  \n",
      "3         -0.686518  \n",
      "10        -0.686518  \n",
      "7         -0.686518  \n",
      "1         -0.686519  \n",
      "2         -0.686519  \n",
      "18        -0.686519  \n",
      "6         -0.686519  \n",
      "13        -0.686520  \n",
      "5         -0.686520  \n",
      "16        -0.686520  \n",
      "14        -0.686521  \n",
      "8         -0.686521  \n",
      "19        -0.686521  \n"
     ]
    }
   ],
   "source": [
    "to_tune = {'C': [0.5, 1, 2, 4, 8], 'solver': ['saga'], 'penalty': ['l1','l2'], 'fit_intercept': [True, False]}\n",
    "gs_lr = GridSearchCV(ClassificationReducer(LogisticRegression()), to_tune,  cv=3, scoring='neg_log_loss')\n",
    "gs_lr.fit_task(NBA_results_task_train)\n",
    "gs_lr.inspect_results()"
   ]
  },
  {
   "cell_type": "code",
   "execution_count": 24,
   "metadata": {},
   "outputs": [
    {
     "data": {
      "text/plain": [
       "array([1, 0, 1, ..., 1, 1, 1], dtype=int64)"
      ]
     },
     "execution_count": 24,
     "metadata": {},
     "output_type": "execute_result"
    }
   ],
   "source": [
    "gs_lr.predict_task(NBA_results_task_predict)"
   ]
  },
  {
   "cell_type": "code",
   "execution_count": 25,
   "metadata": {},
   "outputs": [
    {
     "data": {
      "text/plain": [
       "array([[0.44759906, 0.55240094],\n",
       "       [0.56879714, 0.43120286],\n",
       "       [0.4869326 , 0.5130674 ],\n",
       "       ...,\n",
       "       [0.40586469, 0.59413531],\n",
       "       [0.46519783, 0.53480217],\n",
       "       [0.39162283, 0.60837717]])"
      ]
     },
     "execution_count": 25,
     "metadata": {},
     "output_type": "execute_result"
    }
   ],
   "source": [
    "gs_lr.predict_proba_task(NBA_results_task_predict)"
   ]
  },
  {
   "cell_type": "code",
   "execution_count": 26,
   "metadata": {},
   "outputs": [
    {
     "data": {
      "text/plain": [
       "array([0.66884072, 0.47279872, 0.70427284, ..., 0.64116639, 0.44976495,\n",
       "       0.78764947])"
      ]
     },
     "execution_count": 26,
     "metadata": {},
     "output_type": "execute_result"
    }
   ],
   "source": [
    "gs_bt.predict_proba_task(NBA_results_task_predict)"
   ]
  },
  {
   "cell_type": "code",
   "execution_count": 27,
   "metadata": {},
   "outputs": [
    {
     "data": {
      "text/plain": [
       "array(['Golden State Warriors', 'San Antonio Spurs', 'Houston Rockets',\n",
       "       'Utah Jazz', 'Boston Celtics', 'Oklahoma City Thunder',\n",
       "       'Washington Wizards', 'Toronto Raptors', 'Los Angeles Clippers',\n",
       "       'Denver Nuggets', 'Atlanta Hawks', 'Indiana Pacers',\n",
       "       'Chicago Bulls', 'Cleveland Cavaliers', 'Memphis Grizzlies',\n",
       "       'Miami Heat', 'Milwaukee Bucks', 'Charlotte Hornets',\n",
       "       'Minnesota Timberwolves', 'Portland Trail Blazers',\n",
       "       'Detroit Pistons', 'New Orleans Pelicans', 'Sacramento Kings',\n",
       "       'Philadelphia 76ers', 'Dallas Mavericks', 'New York Knicks',\n",
       "       'Phoenix Suns', 'Los Angeles Lakers', 'Orlando Magic',\n",
       "       'Brooklyn Nets'], dtype=object)"
      ]
     },
     "execution_count": 27,
     "metadata": {},
     "output_type": "execute_result"
    }
   ],
   "source": [
    "gs_bt.rank_entities(ascending=False)"
   ]
  }
 ],
 "metadata": {
  "kernelspec": {
   "display_name": "Python 3",
   "language": "python",
   "name": "python3"
  },
  "language_info": {
   "codemirror_mode": {
    "name": "ipython",
    "version": 3
   },
   "file_extension": ".py",
   "mimetype": "text/x-python",
   "name": "python",
   "nbconvert_exporter": "python",
   "pygments_lexer": "ipython3",
   "version": "3.7.1"
  }
 },
 "nbformat": 4,
 "nbformat_minor": 2
}
